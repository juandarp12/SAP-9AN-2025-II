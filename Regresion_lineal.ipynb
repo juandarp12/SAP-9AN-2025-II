{
  "cells": [
    {
      "cell_type": "markdown",
      "metadata": {
        "id": "view-in-github",
        "colab_type": "text"
      },
      "source": [
        "<a href=\"https://colab.research.google.com/github/juandarp12/SAP-9AN-2025-II/blob/main/Regresion_lineal.ipynb\" target=\"_parent\"><img src=\"https://colab.research.google.com/assets/colab-badge.svg\" alt=\"Open In Colab\"/></a>"
      ]
    },
    {
      "cell_type": "markdown",
      "metadata": {
        "id": "Ii_7DdtJH8e2"
      },
      "source": [
        "# Taller 3: Regresión Lineal y Conceptos Fundamentales\n",
        "\n",
        "\n"
      ],
      "id": "Ii_7DdtJH8e2"
    },
    {
      "cell_type": "code",
      "source": [],
      "metadata": {
        "id": "F15WEl-8dgFE"
      },
      "id": "F15WEl-8dgFE",
      "execution_count": null,
      "outputs": []
    },
    {
      "cell_type": "code",
      "source": [],
      "metadata": {
        "id": "ge1LSdSvdhcQ"
      },
      "id": "ge1LSdSvdhcQ",
      "execution_count": null,
      "outputs": []
    },
    {
      "cell_type": "markdown",
      "source": [],
      "metadata": {
        "id": "gIMY8g8cdiMj"
      },
      "id": "gIMY8g8cdiMj"
    },
    {
      "cell_type": "markdown",
      "source": [],
      "metadata": {
        "id": "3NVnP7BEdkny"
      },
      "id": "3NVnP7BEdkny"
    },
    {
      "cell_type": "code",
      "source": [],
      "metadata": {
        "id": "d1C8Br7VdmCO"
      },
      "id": "d1C8Br7VdmCO",
      "execution_count": null,
      "outputs": []
    },
    {
      "cell_type": "markdown",
      "metadata": {
        "id": "1KuTZ6PkH8e5"
      },
      "source": [
        "## Instrucciones Generales\n",
        "\n",
        "**Fecha de entrega:** 20 de septiembre.\n",
        "**Tiempo disponible:** Tienen dos clases y el fin de semana para completar el taller.\n",
        "\n",
        "1.  **Trabajo en Grupo:** Este taller se debe realizar en los grupos previamente definidos.\n",
        "2.  **Repositorio en GitHub:** Cada grupo debe crear un repositorio en GitHub.\n",
        "    * Una sola persona del grupo es responsable de crearlo.\n",
        "    * El repositorio debe llamarse **`Regresion_Lineal`**.\n",
        "    * Este archivo debe ser subido al repositorio con el nombre **`Regresion_Lineal.ipynb`**.\n",
        "    * **Alternativa:** Si tienen complicaciones con GitHub, pueden enviar el enlace del cuaderno de Google Colab al aula virtual.\n",
        "3.  **Actividad a Mano (20% de la nota):**\n",
        "    * La asistencia a clase es **obligatoria**.\n",
        "    * Se realizará una actividad práctica de regresión lineal a mano.\n",
        "    * Cada integrante del grupo deberá firmar la hoja de la actividad, la cual constituye el 20% de la nota de este taller."
      ],
      "id": "1KuTZ6PkH8e5"
    },
    {
      "cell_type": "markdown",
      "metadata": {
        "id": "mgaEeFAbH8e7"
      },
      "source": [
        "---"
      ],
      "id": "mgaEeFAbH8e7"
    },
    {
      "cell_type": "markdown",
      "metadata": {
        "id": "et22XL5bH8e7"
      },
      "source": [
        "## **Parte 1: Definición del Problema**\n",
        "\n",
        "Piensa en tu experiencia académica o laboral en un área de operaciones y elige **un problema** relacionado con inventarios, calidad, mantenimiento o productividad.\n",
        "\n",
        "1.  Indica cuál es tu variable dependiente **$Y$** (aquello que quieres predecir o clasificar).\n",
        "2.  Lista entre 3 y 5 variables independientes **$X$** que medirías para predecir $Y$.\n",
        "3.  Especifica si tu problema es de **regresión** (predecir un valor numérico) o de **clasificación**."
      ],
      "id": "et22XL5bH8e7"
    },
    {
      "cell_type": "code",
      "source": [],
      "metadata": {
        "id": "VqewLpZcdr20"
      },
      "id": "VqewLpZcdr20",
      "execution_count": null,
      "outputs": []
    },
    {
      "cell_type": "markdown",
      "source": [],
      "metadata": {
        "id": "CLf8N04wdrWP"
      },
      "id": "CLf8N04wdrWP"
    },
    {
      "cell_type": "markdown",
      "metadata": {
        "id": "pxSLPR4AH8e8"
      },
      "source": [
        "**Respuesta (escribe aquí):** Problema Predicción del nivel de inventario ideal para evitar faltantes o excesos.\n",
        "\n",
        "\n",
        "**Respuesta 1:** El nivel de inventario ideal, que puede expresarse como el número de unidades necesarias para mantener la operación sin interrupciones, evitando tanto el desabastecimiento como el exceso de stock.\n",
        "\n",
        "\n",
        "**Respuesta 2:** demanda historica, tiempo de reposision, varibilidad de demanda\n",
        "\n",
        "\n",
        "**Respuesta 3:** Este sería un problema de regresión, ya que estamos intentando predecir un valor numérico (el nivel de inventario ideal), basándonos en las variables independientes."
      ],
      "id": "pxSLPR4AH8e8"
    },
    {
      "cell_type": "markdown",
      "source": [],
      "metadata": {
        "id": "AKaXAyQfdubX"
      },
      "id": "AKaXAyQfdubX"
    },
    {
      "cell_type": "code",
      "source": [],
      "metadata": {
        "id": "vTitZkeNd1WM"
      },
      "id": "vTitZkeNd1WM",
      "execution_count": null,
      "outputs": []
    },
    {
      "cell_type": "markdown",
      "metadata": {
        "id": "fGoj1KxxH8e8"
      },
      "source": [
        "---"
      ],
      "id": "fGoj1KxxH8e8"
    },
    {
      "cell_type": "markdown",
      "metadata": {
        "id": "eHOtOSQiH8e9"
      },
      "source": [
        "## **Parte 2: Preprocesamiento de Datos y *Leakage***\n",
        "\n",
        "Basado en el caso que definiste en la Parte 1:\n",
        "\n",
        "1.  Lista entre 3 y 5 **transformaciones** que aplicarías a tus datos (ej. imputación de valores faltantes, codificación de variables categóricas, escalado, creación de *lags*, etc.) y **justifica por qué** cada una es necesaria.\n",
        "2.  Señala un posible riesgo de ***data leakage*** (fuga de datos) en tu plan y explica cómo lo evitarías usando un *pipeline* de preprocesamiento."
      ],
      "id": "eHOtOSQiH8e9"
    },
    {
      "cell_type": "markdown",
      "metadata": {
        "id": "6KYkmr9mH8e9"
      },
      "source": [
        "**Respuesta (escribe aquí):** imputacion de valores faltantes, Codificación de variables, Escalado de características,\n",
        "\n",
        "**riesgo de fuga de datos:**  Un posible riesgo de fuga de datos en este caso es que durante el proceso de preprocesamiento se utilice información de los futuros (por ejemplo, la demanda del próximo mes) al construir características adicionales o durante la imputación de valores faltantes, lo cual puede hacer que el modelo vea datos que no estarían disponibles en el momento de hacer la predicción."
      ],
      "id": "6KYkmr9mH8e9"
    },
    {
      "cell_type": "markdown",
      "metadata": {
        "id": "hbyCKrY6H8e-"
      },
      "source": [
        "---"
      ],
      "id": "hbyCKrY6H8e-"
    },
    {
      "cell_type": "markdown",
      "metadata": {
        "id": "ukCTM2EKH8e-"
      },
      "source": [
        "## **Parte 3: Interpretación y Métricas de Regresión Simple**\n",
        "\n",
        "Para esta sección, elige un caso simple de regresión (puede ser el tuyo o uno hipotético, como predecir la demanda de un producto según su precio).\n",
        "\n",
        "1.  Define claramente las variables **$Y$** y **$X$** junto con sus **unidades** (ej. $Y$: número de unidades vendidas, $X$: precio en dólares).\n",
        "2.  Supón que entrenas un modelo y obtienes una pendiente de **$\\hat{\\beta}_1 = -0.6$**. Escribe una interpretación clara y concisa de este coeficiente en el contexto de tu problema.\n",
        "3.  ¿Qué **métrica** de evaluación usarías (MAE, RMSE, o MAPE) y **por qué** es la más adecuada para tu caso?\n",
        "4.  Menciona **un supuesto** del modelo de regresión lineal que validarías (ej. linealidad, homocedasticidad) y explica **cómo** lo harías (usando un gráfico o una prueba estadística)."
      ],
      "id": "ukCTM2EKH8e-"
    },
    {
      "cell_type": "markdown",
      "metadata": {
        "id": "5KGzW8pSH8e_"
      },
      "source": [
        "**Respuesta (escribe aquí):** Variable dependiente (Y):\n",
        "\n",
        "Nivel de inventario ideal (Y)\n",
        "\n",
        "Unidad: Número de unidades en inventario (unidades).\n",
        "\n",
        "Descripción: Es el número de unidades que deben estar en el inventario para evitar tanto faltantes como excesos.\n",
        "\n",
        "Variables independientes (X):\n",
        "\n",
        "Demanda histórica (X₁)\n",
        "\n",
        "Unidad: Unidades vendidas (unidades).\n",
        "\n",
        "Descripción: Número de unidades que se han vendido en un periodo determinado (por ejemplo, en la última semana o mes).\n",
        "\n",
        "Tiempo de reposición (X₂)\n",
        "\n",
        "Unidad: Días (días).\n",
        "\n",
        "Descripción: El número de días que toma recibir un nuevo pedido de inventario desde que se realiza la solicitud.\n",
        "\n",
        "Nivel de servicio deseado (X₃)\n",
        "\n",
        "Unidad: Porcentaje (%).\n",
        "\n",
        "Descripción: El porcentaje de veces que se espera que el inventario esté disponible sin agotarse (por ejemplo, 95% de nivel de servicio).\n",
        "\n",
        "Tendencias estacionales (X₄)\n",
        "\n",
        "Unidad: Unidades o indicador binario (por ejemplo, 0 o 1).\n",
        "\n",
        "Descripción: Indica si el periodo es estacional (por ejemplo, diciembre puede ser estacional debido a las festividades) o no.\n",
        "\n",
        "Variabilidad en la demanda (X₅)\n",
        "\n",
        "Unidad: Desviación estándar de la demanda (unidades).\n",
        "\n",
        "Descripción: Medida de la variabilidad de la demanda en un período determinado."
      ],
      "id": "5KGzW8pSH8e_"
    },
    {
      "cell_type": "markdown",
      "metadata": {
        "id": "NlCf92svH8e_"
      },
      "source": [
        "---"
      ],
      "id": "NlCf92svH8e_"
    },
    {
      "cell_type": "markdown",
      "metadata": {
        "id": "DEOrd_fSH8e_"
      },
      "source": [
        "## **Parte 4: Regresión Múltiple y Colinealidad**\n",
        "\n",
        "Volviendo a tu caso de la Parte 1 (con múltiples variables).\n",
        "\n",
        "1.  Escribe el **vector de variables** $\\vec{X}$ y la **respuesta** $Y$.\n",
        "2.  Explica cómo interpretarías el **coeficiente** de una de tus variables clave (incluyendo unidades y el sentido de la relación: positiva o negativa).\n",
        "3.  Si sospecharas que existe **colinealidad** entre tus variables, menciona **dos acciones** que podrías tomar para mitigarla."
      ],
      "id": "DEOrd_fSH8e_"
    },
    {
      "cell_type": "markdown",
      "metadata": {
        "id": "REUWPUP_H8fA"
      },
      "source": [
        "**Respuesta (escribe aquí):** Detectar y luego eliminar/combinar variables altamente correlacionadas\n",
        "\n",
        "Calcula la matriz de correlaciones y el VIF (Variance Inflation Factor).\n",
        "\n",
        "Si dos variables están muy correlacionadas (ej. Demanda histórica\n",
        "𝑋\n",
        "1\n",
        "X\n",
        "1\n",
        "\t​\n",
        "\n",
        " y Tendencias estacionales\n",
        "𝑋\n",
        "4\n",
        "X\n",
        "4\n",
        "\t​\n",
        "\n",
        " en cierto formato), considera combinar en un solo predictor (por ejemplo, demanda ajustada por estacionalidad) o eliminar la variable menos informativa.\n",
        "\n",
        "Ventaja: conserva interpretabilidad del modelo.\n",
        "\n",
        "Aplicar regularización o reducción de dimensión\n",
        "\n",
        "Usa Ridge (regularización L2) para reducir la varianza de coeficientes correlacionados (no elimina variables, pero estabiliza estimaciones). Alternativamente, Lasso (L1) puede seleccionar variables al poner a cero algunos coeficientes."
      ],
      "id": "REUWPUP_H8fA"
    },
    {
      "cell_type": "markdown",
      "metadata": {
        "id": "Kfz2bBkzH8fA"
      },
      "source": [
        "---"
      ],
      "id": "Kfz2bBkzH8fA"
    },
    {
      "cell_type": "markdown",
      "metadata": {
        "id": "d0sQYW3DH8fA"
      },
      "source": [
        "## **Parte 5: Interacciones y Multicolinealidad (VIF)**\n",
        "\n",
        "1.  Plantea un caso con una variable $Y$ y entre 4 y 6 variables $X$. ¿Qué término de **interacción** entre dos variables podrías añadir al modelo y **por qué** crees que sería útil?\n",
        "2.  Si al calcular el Factor de Inflación de la Varianza (VIF) para una variable, obtienes un valor alto (ej. > 10), menciona **dos acciones** que podrías tomar para solucionarlo."
      ],
      "id": "d0sQYW3DH8fA"
    },
    {
      "cell_type": "markdown",
      "metadata": {
        "id": "tEgefQ1cH8fA"
      },
      "source": [
        "**Respuesta (escribe aquí):**"
      ],
      "id": "tEgefQ1cH8fA"
    },
    {
      "cell_type": "markdown",
      "metadata": {
        "id": "8XdQIyu_H8fB"
      },
      "source": [
        "---"
      ],
      "id": "8XdQIyu_H8fB"
    },
    {
      "cell_type": "markdown",
      "metadata": {
        "id": "XKsr-uPlH8fB"
      },
      "source": [
        "## **Parte 6: Variables Categóricas e Interacciones**\n",
        "\n",
        "1.  Define una **variable categórica** para tu caso (puedes inventarla si no la tenías). Elige una de sus categorías como el nivel **base** o de referencia y **justifica** tu elección.\n",
        "2.  Crea una **interacción** entre una variable numérica y la variable categórica que definiste. Explica cómo se interpretaría el coeficiente de esta interacción."
      ],
      "id": "XKsr-uPlH8fB"
    },
    {
      "cell_type": "markdown",
      "metadata": {
        "id": "7i_JBwwbH8fC"
      },
      "source": [
        "**Respuesta (escribe aquí):** Categorías posibles:\n",
        "\n",
        "Nacional\n",
        "\n",
        "Internacional\n",
        "\n",
        "Nivel de referencia (base): Nacional.\n",
        "\n",
        "Justificación: Lo lógico es tomar como base la categoría que representa la situación más común o estándar (los proveedores nacionales suelen ser más frecuentes, con menores tiempos de entrega). De esta manera, el coeficiente para la categoría “Internacional” reflejará la diferencia en el inventario ideal respecto a trabajar con un proveedor nacional."
      ],
      "id": "7i_JBwwbH8fC"
    },
    {
      "cell_type": "markdown",
      "metadata": {
        "id": "DjYrQWpqH8fC"
      },
      "source": [
        "---"
      ],
      "id": "DjYrQWpqH8fC"
    },
    {
      "cell_type": "markdown",
      "metadata": {
        "id": "mG9YJpeoH8fC"
      },
      "source": [
        "## **Parte 7: Conceptos Clave de Clasificación**\n",
        "\n",
        "Aunque el taller se centra en regresión, estos conceptos son fundamentales en Machine Learning.\n",
        "\n",
        "1.  Explica qué es la **curva ROC** y para qué se utiliza en un problema de clasificación.\n",
        "2.  Define el concepto de **accuracy** (exactitud) y menciona una situación en la que podría ser una métrica engañosa.\n",
        "3.  Describe qué es una **matriz de confusión** y cómo se interpretan sus componentes (Verdaderos Positivos, Falsos Positivos, Verdaderos Negativos, Falsos Negativos).\n",
        "\n"
      ],
      "id": "mG9YJpeoH8fC"
    },
    {
      "cell_type": "markdown",
      "metadata": {
        "id": "aq-cYN3nH8fD"
      },
      "source": [
        "**Respuesta (escribe aquí):** Curva ROC\n",
        "\n",
        "Gráfico que evalúa un modelo de clasificación binaria.\n",
        "\n",
        "Eje X: tasa de falsos positivos (FPR).\n",
        "\n",
        "Eje Y: tasa de verdaderos positivos (TPR o recall).\n",
        "\n",
        "Se usa para medir la capacidad de distinguir entre clases; su métrica asociada es el AUC (1 = perfecto, 0.5 = azar).\n",
        "\n",
        "Accuracy (Exactitud)\n",
        "\n",
        "Proporción de predicciones correctas:\n",
        "\n",
        "𝐴\n",
        "𝑐\n",
        "𝑐\n",
        "𝑢\n",
        "𝑟\n",
        "𝑎\n",
        "𝑐\n",
        "𝑦\n",
        "=\n",
        "𝑇\n",
        "𝑃\n",
        "+\n",
        "𝑇\n",
        "𝑁\n",
        "𝑇\n",
        "𝑃\n",
        "+\n",
        "𝑇\n",
        "𝑁\n",
        "+\n",
        "𝐹\n",
        "𝑃\n",
        "+\n",
        "𝐹\n",
        "𝑁\n",
        "Accuracy=\n",
        "TP+TN+FP+FN\n",
        "TP+TN\n",
        "\t​\n",
        "\n",
        "\n",
        "Puede ser engañoso con clases desbalanceadas (ej.: un modelo que siempre predice la clase mayoritaria puede tener alta exactitud pero no detectar la minoritaria).\n",
        "\n",
        "Matriz de confusión\n",
        "\tPredicho +\tPredicho -\n",
        "Real +\tTP (aciertos positivos)\tFN (positivos no detectados)\n",
        "Real -\tFP (falsas alarmas)\tTN (aciertos negativos)\n",
        "\n",
        "TP: positivos bien clasificados.\n",
        "\n",
        "TN: negativos bien clasificados.\n",
        "\n",
        "FP: negativos clasificados como positivos.\n",
        "\n",
        "FN: positivos clasificados como negativos."
      ],
      "id": "aq-cYN3nH8fD"
    }
  ],
  "metadata": {
    "kernelspec": {
      "display_name": "Python 3",
      "language": "python",
      "name": "python3"
    },
    "language_info": {
      "name": "python",
      "version": "3.x"
    },
    "colab": {
      "provenance": [],
      "toc_visible": true,
      "include_colab_link": true
    }
  },
  "nbformat": 4,
  "nbformat_minor": 5
}